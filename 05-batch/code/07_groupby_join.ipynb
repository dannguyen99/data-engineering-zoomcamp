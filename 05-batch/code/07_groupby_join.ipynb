{
 "cells": [
  {
   "cell_type": "code",
   "execution_count": 1,
   "id": "4341e0e6",
   "metadata": {},
   "outputs": [],
   "source": [
    "import pyspark\n",
    "from pyspark.sql import SparkSession\n",
    "\n",
    "spark = SparkSession.builder \\\n",
    "    .master(\"local[*]\") \\\n",
    "    .appName('test') \\\n",
    "    .getOrCreate()"
   ]
  },
  {
   "cell_type": "code",
   "execution_count": 2,
   "id": "cd304aec",
   "metadata": {},
   "outputs": [],
   "source": [
    "df_green = spark.read.parquet('data/pq/green/*/*')"
   ]
  },
  {
   "cell_type": "code",
   "execution_count": 3,
   "id": "243991f3",
   "metadata": {},
   "outputs": [],
   "source": [
    "df_green.createOrReplaceTempView('green')"
   ]
  },
  {
   "cell_type": "code",
   "execution_count": 4,
   "id": "e43764a7",
   "metadata": {},
   "outputs": [],
   "source": [
    "df_green_revenue = spark.sql(\"\"\"\n",
    "SELECT \n",
    "    date_trunc('hour', lpep_pickup_datetime) AS hour, \n",
    "    PULocationID AS zone,\n",
    "\n",
    "    SUM(total_amount) AS amount,\n",
    "    COUNT(1) AS number_records\n",
    "FROM\n",
    "    green\n",
    "WHERE\n",
    "    lpep_pickup_datetime >= '2020-01-01 00:00:00'\n",
    "GROUP BY\n",
    "    1, 2\n",
    "\"\"\")"
   ]
  },
  {
   "cell_type": "code",
   "execution_count": 5,
   "id": "03da56f5",
   "metadata": {},
   "outputs": [
    {
     "name": "stdout",
     "output_type": "stream",
     "text": [
      "+-------------------+----+------------------+--------------+\n",
      "|               hour|zone|            amount|number_records|\n",
      "+-------------------+----+------------------+--------------+\n",
      "|2020-01-22 16:00:00|  74|1107.7699999999988|            70|\n",
      "|2020-01-13 20:00:00|   7|330.63000000000005|            27|\n",
      "|2020-01-23 21:00:00|  25|196.79000000000005|            17|\n",
      "|2020-01-10 18:00:00|  41| 728.5999999999997|            55|\n",
      "|2020-01-09 10:00:00| 116|352.74000000000007|            20|\n",
      "|2020-01-23 09:00:00|  75| 650.6299999999998|            55|\n",
      "|2020-01-18 10:00:00|  42| 266.4900000000001|            24|\n",
      "|2020-01-28 19:00:00|  75|1298.9999999999995|            97|\n",
      "|2020-01-15 04:00:00| 173|              21.1|             2|\n",
      "|2020-01-15 04:00:00| 179|             19.12|             3|\n",
      "|2020-01-23 20:00:00| 260|            159.68|            12|\n",
      "|2020-01-24 17:00:00|  92|177.72000000000003|            10|\n",
      "|2020-01-12 14:00:00| 168|60.959999999999994|             4|\n",
      "|2020-01-23 08:00:00|  52| 377.1100000000001|            18|\n",
      "|2020-01-14 16:00:00| 134|218.71000000000004|            11|\n",
      "|2020-01-13 19:00:00| 213|              26.6|             1|\n",
      "|2020-01-16 20:00:00| 130|488.82000000000016|            23|\n",
      "|2020-01-15 23:00:00| 136|             153.8|             4|\n",
      "|2020-01-08 12:00:00|  92|200.29000000000002|             9|\n",
      "|2020-01-04 15:00:00|  91|126.27999999999999|             4|\n",
      "+-------------------+----+------------------+--------------+\n",
      "only showing top 20 rows\n",
      "\n"
     ]
    }
   ],
   "source": [
    "df_green_revenue.show()"
   ]
  },
  {
   "cell_type": "code",
   "execution_count": 6,
   "id": "3e00310e",
   "metadata": {},
   "outputs": [],
   "source": [
    "df_green_revenue \\\n",
    "    .repartition(20) \\\n",
    "    .write.parquet('data/report/revenue/green', mode='overwrite')"
   ]
  },
  {
   "cell_type": "code",
   "execution_count": 7,
   "id": "07ebb68c",
   "metadata": {},
   "outputs": [
    {
     "name": "stderr",
     "output_type": "stream",
     "text": [
      "C:\\Program Files\\spark-3.5.3-bin-hadoop3\\python\\pyspark\\sql\\dataframe.py:329: FutureWarning: Deprecated in 2.0, use createOrReplaceTempView instead.\n",
      "  warnings.warn(\"Deprecated in 2.0, use createOrReplaceTempView instead.\", FutureWarning)\n"
     ]
    }
   ],
   "source": [
    "df_yellow = spark.read.parquet('data/pq/yellow/*/*')\n",
    "df_yellow.registerTempTable('yellow')"
   ]
  },
  {
   "cell_type": "code",
   "execution_count": 8,
   "id": "9d5be29d",
   "metadata": {},
   "outputs": [],
   "source": [
    "df_yellow_revenue = spark.sql(\"\"\"\n",
    "SELECT \n",
    "    date_trunc('hour', tpep_pickup_datetime) AS hour, \n",
    "    PULocationID AS zone,\n",
    "\n",
    "    SUM(total_amount) AS amount,\n",
    "    COUNT(1) AS number_records\n",
    "FROM\n",
    "    yellow\n",
    "WHERE\n",
    "    tpep_pickup_datetime >= '2020-01-01 00:00:00'\n",
    "GROUP BY\n",
    "    1, 2\n",
    "\"\"\")"
   ]
  },
  {
   "cell_type": "code",
   "execution_count": 9,
   "id": "8bd9264e",
   "metadata": {},
   "outputs": [],
   "source": [
    "df_yellow_revenue \\\n",
    "    .repartition(20) \\\n",
    "    .write.parquet('data/report/revenue/yellow', mode='overwrite')"
   ]
  },
  {
   "cell_type": "code",
   "execution_count": 10,
   "id": "fd5d74d7",
   "metadata": {},
   "outputs": [],
   "source": [
    "df_green_revenue = spark.read.parquet('data/report/revenue/green')\n",
    "df_yellow_revenue = spark.read.parquet('data/report/revenue/yellow')"
   ]
  },
  {
   "cell_type": "code",
   "execution_count": 11,
   "id": "35015ee6",
   "metadata": {},
   "outputs": [],
   "source": [
    "df_green_revenue_tmp = df_green_revenue \\\n",
    "    .withColumnRenamed('amount', 'green_amount') \\\n",
    "    .withColumnRenamed('number_records', 'green_number_records')\n",
    "\n",
    "df_yellow_revenue_tmp = df_yellow_revenue \\\n",
    "    .withColumnRenamed('amount', 'yellow_amount') \\\n",
    "    .withColumnRenamed('number_records', 'yellow_number_records')"
   ]
  },
  {
   "cell_type": "code",
   "execution_count": 12,
   "id": "ec9f34ea",
   "metadata": {},
   "outputs": [],
   "source": [
    "df_join = df_green_revenue_tmp.join(df_yellow_revenue_tmp, on=['hour', 'zone'], how='outer')"
   ]
  },
  {
   "cell_type": "code",
   "execution_count": 14,
   "id": "9295dfea",
   "metadata": {},
   "outputs": [
    {
     "name": "stdout",
     "output_type": "stream",
     "text": [
      "+-------------------+----+------------------+--------------------+------------------+---------------------+\n",
      "|               hour|zone|      green_amount|green_number_records|     yellow_amount|yellow_number_records|\n",
      "+-------------------+----+------------------+--------------------+------------------+---------------------+\n",
      "|2020-01-01 00:00:00|  17|            195.03|                   9|220.20999999999998|                    8|\n",
      "|2020-01-01 00:00:00|  65|199.48999999999998|                  10| 409.3500000000001|                   19|\n",
      "|2020-01-01 00:00:00|  76|            143.78|                   4|             35.51|                    2|\n",
      "|2020-01-01 00:00:00| 129| 273.2100000000001|                  19|            211.62|                   13|\n",
      "|2020-01-01 00:00:00| 144|              NULL|                NULL| 2842.729999999999|                  158|\n",
      "|2020-01-01 00:00:00| 157|             52.86|                   2|             57.06|                    2|\n",
      "|2020-01-01 00:00:00| 158|              NULL|                NULL| 4295.580000000002|                  226|\n",
      "|2020-01-01 00:00:00| 159|              13.8|                   1|              58.8|                    2|\n",
      "|2020-01-01 00:00:00| 165|             66.14|                   2|              NULL|                 NULL|\n",
      "|2020-01-01 00:00:00| 169|             64.17|                   3|62.199999999999996|                    5|\n",
      "|2020-01-01 00:00:00| 231|              NULL|                NULL|4822.6600000000035|                  245|\n",
      "|2020-01-01 01:00:00|  22|              NULL|                NULL|              50.0|                    1|\n",
      "|2020-01-01 01:00:00|  37|             88.16|                   4|            736.46|                   24|\n",
      "|2020-01-01 01:00:00|  65|246.86000000000004|                  16| 647.4300000000002|                   31|\n",
      "|2020-01-01 01:00:00|  71|              NULL|                NULL|             48.02|                    3|\n",
      "|2020-01-01 01:00:00|  76|              28.8|                   1|            190.91|                    5|\n",
      "|2020-01-01 01:00:00|  78|             74.33|                   3|              36.1|                    2|\n",
      "|2020-01-01 01:00:00|  82|498.41000000000025|                  39|210.46000000000004|                   13|\n",
      "|2020-01-01 01:00:00|  89|             34.17|                   2|             124.6|                    3|\n",
      "|2020-01-01 01:00:00| 100|              NULL|                NULL|1711.8399999999992|                   72|\n",
      "+-------------------+----+------------------+--------------------+------------------+---------------------+\n",
      "only showing top 20 rows\n",
      "\n"
     ]
    }
   ],
   "source": [
    "df_join.show()"
   ]
  },
  {
   "cell_type": "code",
   "execution_count": 13,
   "id": "10238be7",
   "metadata": {},
   "outputs": [],
   "source": [
    "df_join.write.parquet('data/report/revenue/total', mode='overwrite')"
   ]
  },
  {
   "cell_type": "code",
   "execution_count": 15,
   "id": "c3af7169",
   "metadata": {},
   "outputs": [],
   "source": [
    "df_join = spark.read.parquet('data/report/revenue/total')"
   ]
  },
  {
   "cell_type": "code",
   "execution_count": 16,
   "id": "bc2a6680",
   "metadata": {},
   "outputs": [
    {
     "data": {
      "text/plain": [
       "DataFrame[hour: timestamp, zone: bigint, green_amount: double, green_number_records: bigint, yellow_amount: double, yellow_number_records: bigint]"
      ]
     },
     "execution_count": 16,
     "metadata": {},
     "output_type": "execute_result"
    }
   ],
   "source": [
    "df_join"
   ]
  },
  {
   "cell_type": "code",
   "execution_count": 17,
   "id": "abb46398",
   "metadata": {},
   "outputs": [],
   "source": [
    "df_zones = spark.read.parquet('zones/')"
   ]
  },
  {
   "cell_type": "code",
   "execution_count": 18,
   "id": "074262a7",
   "metadata": {},
   "outputs": [
    {
     "name": "stdout",
     "output_type": "stream",
     "text": [
      "+----------+-------------+--------------------+------------+\n",
      "|LocationID|      Borough|                Zone|service_zone|\n",
      "+----------+-------------+--------------------+------------+\n",
      "|         1|          EWR|      Newark Airport|         EWR|\n",
      "|         2|       Queens|         Jamaica Bay|   Boro Zone|\n",
      "|         3|        Bronx|Allerton/Pelham G...|   Boro Zone|\n",
      "|         4|    Manhattan|       Alphabet City| Yellow Zone|\n",
      "|         5|Staten Island|       Arden Heights|   Boro Zone|\n",
      "|         6|Staten Island|Arrochar/Fort Wad...|   Boro Zone|\n",
      "|         7|       Queens|             Astoria|   Boro Zone|\n",
      "|         8|       Queens|        Astoria Park|   Boro Zone|\n",
      "|         9|       Queens|          Auburndale|   Boro Zone|\n",
      "|        10|       Queens|        Baisley Park|   Boro Zone|\n",
      "|        11|     Brooklyn|          Bath Beach|   Boro Zone|\n",
      "|        12|    Manhattan|        Battery Park| Yellow Zone|\n",
      "|        13|    Manhattan|   Battery Park City| Yellow Zone|\n",
      "|        14|     Brooklyn|           Bay Ridge|   Boro Zone|\n",
      "|        15|       Queens|Bay Terrace/Fort ...|   Boro Zone|\n",
      "|        16|       Queens|             Bayside|   Boro Zone|\n",
      "|        17|     Brooklyn|             Bedford|   Boro Zone|\n",
      "|        18|        Bronx|        Bedford Park|   Boro Zone|\n",
      "|        19|       Queens|           Bellerose|   Boro Zone|\n",
      "|        20|        Bronx|             Belmont|   Boro Zone|\n",
      "+----------+-------------+--------------------+------------+\n",
      "only showing top 20 rows\n",
      "\n"
     ]
    }
   ],
   "source": [
    "df_zones.show()"
   ]
  },
  {
   "cell_type": "code",
   "execution_count": 19,
   "id": "b3cf98a5",
   "metadata": {},
   "outputs": [],
   "source": [
    "df_result = df_join.join(df_zones, df_join.zone == df_zones.LocationID)"
   ]
  },
  {
   "cell_type": "code",
   "execution_count": 21,
   "id": "8be7e933",
   "metadata": {},
   "outputs": [
    {
     "name": "stdout",
     "output_type": "stream",
     "text": [
      "+-------------------+----+------------------+--------------------+------------------+---------------------+----------+---------+--------------------+------------+\n",
      "|               hour|zone|      green_amount|green_number_records|     yellow_amount|yellow_number_records|LocationID|  Borough|                Zone|service_zone|\n",
      "+-------------------+----+------------------+--------------------+------------------+---------------------+----------+---------+--------------------+------------+\n",
      "|2020-01-01 00:00:00|  25|             531.0|                  26|324.34999999999997|                   16|        25| Brooklyn|         Boerum Hill|   Boro Zone|\n",
      "|2020-01-01 00:00:00|  63|              51.9|                   2|              70.8|                    1|        63| Brooklyn|       Cypress Hills|   Boro Zone|\n",
      "|2020-01-01 00:00:00|  69|              11.8|                   1|106.52000000000001|                    4|        69|    Bronx|East Concourse/Co...|   Boro Zone|\n",
      "|2020-01-01 00:00:00| 112|312.26000000000005|                  18|119.47999999999999|                    8|       112| Brooklyn|          Greenpoint|   Boro Zone|\n",
      "|2020-01-01 00:00:00| 140|              NULL|                NULL| 2268.909999999998|                  138|       140|Manhattan|     Lenox Hill East| Yellow Zone|\n",
      "|2020-01-01 00:00:00| 167| 88.89000000000001|                   5|               9.8|                    1|       167|    Bronx|  Morrisania/Melrose|   Boro Zone|\n",
      "|2020-01-01 00:00:00| 186|              NULL|                NULL| 4011.450000000004|                  188|       186|Manhattan|Penn Station/Madi...| Yellow Zone|\n",
      "|2020-01-01 00:00:00| 208|             80.24|                   3|              NULL|                 NULL|       208|    Bronx|Schuylerville/Edg...|   Boro Zone|\n",
      "|2020-01-01 00:00:00| 209|              NULL|                NULL|            863.39|                   46|       209|Manhattan|             Seaport| Yellow Zone|\n",
      "|2020-01-01 00:00:00| 216|            181.37|                   6|            100.32|                    3|       216|   Queens|    South Ozone Park|   Boro Zone|\n",
      "|2020-01-01 00:00:00| 225|251.92000000000004|                  13|             74.07|                    3|       225| Brooklyn|  Stuyvesant Heights|   Boro Zone|\n",
      "|2020-01-01 00:00:00| 233|              NULL|                NULL|2028.8199999999983|                  121|       233|Manhattan| UN/Turtle Bay South| Yellow Zone|\n",
      "|2020-01-01 00:00:00| 236|             13.86|                   1|5254.5900000000065|                  339|       236|Manhattan|Upper East Side N...| Yellow Zone|\n",
      "|2020-01-01 00:00:00| 237|              NULL|                NULL| 8141.930000000024|                  540|       237|Manhattan|Upper East Side S...| Yellow Zone|\n",
      "|2020-01-01 00:00:00| 242|             64.25|                   1|              NULL|                 NULL|       242|    Bronx|Van Nest/Morris Park|   Boro Zone|\n",
      "|2020-01-01 00:00:00| 243|            205.32|                  10|            217.53|                    9|       243|Manhattan|Washington Height...|   Boro Zone|\n",
      "|2020-01-01 00:00:00| 261|              NULL|                NULL|1013.9399999999998|                   51|       261|Manhattan|  World Trade Center| Yellow Zone|\n",
      "|2020-01-01 01:00:00|  14|             68.83|                   3|             42.81|                    3|        14| Brooklyn|           Bay Ridge|   Boro Zone|\n",
      "|2020-01-01 01:00:00|  18|              NULL|                NULL|              36.0|                    1|        18|    Bronx|        Bedford Park|   Boro Zone|\n",
      "|2020-01-01 01:00:00|  29|             32.04|                   2|              27.0|                    1|        29| Brooklyn|      Brighton Beach|   Boro Zone|\n",
      "+-------------------+----+------------------+--------------------+------------------+---------------------+----------+---------+--------------------+------------+\n",
      "only showing top 20 rows\n",
      "\n"
     ]
    }
   ],
   "source": [
    "df_result.show()"
   ]
  },
  {
   "cell_type": "code",
   "execution_count": 20,
   "id": "5e0614ba",
   "metadata": {},
   "outputs": [],
   "source": [
    "df_result.drop('LocationID', 'zone').write.parquet('tmp/revenue-zones')"
   ]
  },
  {
   "cell_type": "code",
   "execution_count": null,
   "id": "9f5ca913",
   "metadata": {},
   "outputs": [],
   "source": []
  }
 ],
 "metadata": {
  "kernelspec": {
   "display_name": ".venv",
   "language": "python",
   "name": "python3"
  },
  "language_info": {
   "codemirror_mode": {
    "name": "ipython",
    "version": 3
   },
   "file_extension": ".py",
   "mimetype": "text/x-python",
   "name": "python",
   "nbconvert_exporter": "python",
   "pygments_lexer": "ipython3",
   "version": "3.11.8"
  }
 },
 "nbformat": 4,
 "nbformat_minor": 5
}
