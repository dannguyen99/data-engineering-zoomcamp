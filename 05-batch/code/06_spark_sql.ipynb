{
 "cells": [
  {
   "cell_type": "code",
   "execution_count": 1,
   "id": "3307b886",
   "metadata": {},
   "outputs": [],
   "source": [
    "import pyspark\n",
    "from pyspark.sql import SparkSession\n",
    "\n",
    "spark = SparkSession.builder \\\n",
    "    .master(\"local[*]\") \\\n",
    "    .appName('test') \\\n",
    "    .getOrCreate()"
   ]
  },
  {
   "cell_type": "code",
   "execution_count": 2,
   "id": "1ee1eb1d",
   "metadata": {},
   "outputs": [],
   "source": [
    "df_green = spark.read.parquet('data/pq/green/*/*')"
   ]
  },
  {
   "cell_type": "code",
   "execution_count": 3,
   "id": "0ca5ee99",
   "metadata": {},
   "outputs": [
    {
     "name": "stdout",
     "output_type": "stream",
     "text": [
      "root\n",
      " |-- VendorID: long (nullable = true)\n",
      " |-- lpep_pickup_datetime: timestamp_ntz (nullable = true)\n",
      " |-- lpep_dropoff_datetime: timestamp_ntz (nullable = true)\n",
      " |-- store_and_fwd_flag: string (nullable = true)\n",
      " |-- RatecodeID: double (nullable = true)\n",
      " |-- PULocationID: long (nullable = true)\n",
      " |-- DOLocationID: long (nullable = true)\n",
      " |-- passenger_count: double (nullable = true)\n",
      " |-- trip_distance: double (nullable = true)\n",
      " |-- fare_amount: double (nullable = true)\n",
      " |-- extra: double (nullable = true)\n",
      " |-- mta_tax: double (nullable = true)\n",
      " |-- tip_amount: double (nullable = true)\n",
      " |-- tolls_amount: double (nullable = true)\n",
      " |-- ehail_fee: integer (nullable = true)\n",
      " |-- improvement_surcharge: double (nullable = true)\n",
      " |-- total_amount: double (nullable = true)\n",
      " |-- payment_type: double (nullable = true)\n",
      " |-- trip_type: double (nullable = true)\n",
      " |-- congestion_surcharge: double (nullable = true)\n",
      "\n"
     ]
    }
   ],
   "source": [
    "df_green.printSchema()"
   ]
  },
  {
   "cell_type": "code",
   "execution_count": 4,
   "id": "649bb4da",
   "metadata": {},
   "outputs": [],
   "source": [
    "df_green = df_green \\\n",
    "    .withColumnRenamed('lpep_pickup_datetime', 'pickup_datetime') \\\n",
    "    .withColumnRenamed('lpep_dropoff_datetime', 'dropoff_datetime')"
   ]
  },
  {
   "cell_type": "code",
   "execution_count": 5,
   "id": "90cd6845",
   "metadata": {},
   "outputs": [],
   "source": [
    "df_yellow = spark.read.parquet('data/pq/yellow/*/*')"
   ]
  },
  {
   "cell_type": "code",
   "execution_count": 6,
   "id": "88822efd",
   "metadata": {},
   "outputs": [],
   "source": [
    "df_yellow = df_yellow \\\n",
    "    .withColumnRenamed('tpep_pickup_datetime', 'pickup_datetime') \\\n",
    "    .withColumnRenamed('tpep_dropoff_datetime', 'dropoff_datetime')"
   ]
  },
  {
   "cell_type": "code",
   "execution_count": 7,
   "id": "610167a2",
   "metadata": {},
   "outputs": [],
   "source": [
    "common_colums = []\n",
    "\n",
    "yellow_columns = set(df_yellow.columns)\n",
    "\n",
    "for col in df_green.columns:\n",
    "    if col in yellow_columns:\n",
    "        common_colums.append(col)"
   ]
  },
  {
   "cell_type": "code",
   "execution_count": 8,
   "id": "839d773f",
   "metadata": {},
   "outputs": [],
   "source": [
    "from pyspark.sql import functions as F"
   ]
  },
  {
   "cell_type": "code",
   "execution_count": 9,
   "id": "2498810a",
   "metadata": {},
   "outputs": [],
   "source": [
    "df_green_sel = df_green \\\n",
    "    .select(common_colums) \\\n",
    "    .withColumn('service_type', F.lit('green'))"
   ]
  },
  {
   "cell_type": "code",
   "execution_count": 10,
   "id": "19032efc",
   "metadata": {},
   "outputs": [],
   "source": [
    "df_yellow_sel = df_yellow \\\n",
    "    .select(common_colums) \\\n",
    "    .withColumn('service_type', F.lit('yellow'))"
   ]
  },
  {
   "cell_type": "code",
   "execution_count": 11,
   "id": "f5b0f3d1",
   "metadata": {},
   "outputs": [],
   "source": [
    "df_trips_data = df_green_sel.unionAll(df_yellow_sel)"
   ]
  },
  {
   "cell_type": "code",
   "execution_count": 12,
   "id": "1bed8b33",
   "metadata": {},
   "outputs": [
    {
     "name": "stdout",
     "output_type": "stream",
     "text": [
      "+------------+--------+\n",
      "|service_type|   count|\n",
      "+------------+--------+\n",
      "|       green| 2802931|\n",
      "|      yellow|55553400|\n",
      "+------------+--------+\n",
      "\n"
     ]
    }
   ],
   "source": [
    "df_trips_data.groupBy('service_type').count().show()"
   ]
  },
  {
   "cell_type": "code",
   "execution_count": 13,
   "id": "28cc8fa3",
   "metadata": {},
   "outputs": [
    {
     "data": {
      "text/plain": [
       "['VendorID',\n",
       " 'pickup_datetime',\n",
       " 'dropoff_datetime',\n",
       " 'store_and_fwd_flag',\n",
       " 'RatecodeID',\n",
       " 'PULocationID',\n",
       " 'DOLocationID',\n",
       " 'passenger_count',\n",
       " 'trip_distance',\n",
       " 'fare_amount',\n",
       " 'extra',\n",
       " 'mta_tax',\n",
       " 'tip_amount',\n",
       " 'tolls_amount',\n",
       " 'improvement_surcharge',\n",
       " 'total_amount',\n",
       " 'payment_type',\n",
       " 'congestion_surcharge',\n",
       " 'service_type']"
      ]
     },
     "execution_count": 13,
     "metadata": {},
     "output_type": "execute_result"
    }
   ],
   "source": [
    "df_trips_data.columns"
   ]
  },
  {
   "cell_type": "code",
   "execution_count": 15,
   "id": "36e90cbc",
   "metadata": {},
   "outputs": [],
   "source": [
    "df_trips_data.createOrReplaceTempView ('trips_data')"
   ]
  },
  {
   "cell_type": "code",
   "execution_count": 16,
   "id": "d0e01bf1",
   "metadata": {},
   "outputs": [
    {
     "name": "stdout",
     "output_type": "stream",
     "text": [
      "+------------+--------+\n",
      "|service_type|count(1)|\n",
      "+------------+--------+\n",
      "|       green| 2802931|\n",
      "|      yellow|55553400|\n",
      "+------------+--------+\n",
      "\n"
     ]
    }
   ],
   "source": [
    "spark.sql(\"\"\"\n",
    "SELECT\n",
    "    service_type,\n",
    "    count(1)\n",
    "FROM\n",
    "    trips_data\n",
    "GROUP BY \n",
    "    service_type\n",
    "\"\"\").show()"
   ]
  },
  {
   "cell_type": "code",
   "execution_count": 17,
   "id": "b2ee7038",
   "metadata": {},
   "outputs": [],
   "source": [
    "df_result = spark.sql(\"\"\"\n",
    "SELECT \n",
    "    -- Reveneue grouping \n",
    "    PULocationID AS revenue_zone,\n",
    "    date_trunc('month', pickup_datetime) AS revenue_month, \n",
    "    service_type, \n",
    "\n",
    "    -- Revenue calculation \n",
    "    SUM(fare_amount) AS revenue_monthly_fare,\n",
    "    SUM(extra) AS revenue_monthly_extra,\n",
    "    SUM(mta_tax) AS revenue_monthly_mta_tax,\n",
    "    SUM(tip_amount) AS revenue_monthly_tip_amount,\n",
    "    SUM(tolls_amount) AS revenue_monthly_tolls_amount,\n",
    "    SUM(improvement_surcharge) AS revenue_monthly_improvement_surcharge,\n",
    "    SUM(total_amount) AS revenue_monthly_total_amount,\n",
    "    SUM(congestion_surcharge) AS revenue_monthly_congestion_surcharge,\n",
    "\n",
    "    -- Additional calculations\n",
    "    AVG(passenger_count) AS avg_montly_passenger_count,\n",
    "    AVG(trip_distance) AS avg_montly_trip_distance\n",
    "FROM\n",
    "    trips_data\n",
    "GROUP BY\n",
    "    1, 2, 3\n",
    "\"\"\")"
   ]
  },
  {
   "cell_type": "code",
   "execution_count": 18,
   "id": "3d05e667",
   "metadata": {},
   "outputs": [
    {
     "name": "stdout",
     "output_type": "stream",
     "text": [
      "+------------+-------------------+------------+--------------------+---------------------+-----------------------+--------------------------+----------------------------+-------------------------------------+----------------------------+------------------------------------+--------------------------+------------------------+\n",
      "|revenue_zone|      revenue_month|service_type|revenue_monthly_fare|revenue_monthly_extra|revenue_monthly_mta_tax|revenue_monthly_tip_amount|revenue_monthly_tolls_amount|revenue_monthly_improvement_surcharge|revenue_monthly_total_amount|revenue_monthly_congestion_surcharge|avg_montly_passenger_count|avg_montly_trip_distance|\n",
      "+------------+-------------------+------------+--------------------+---------------------+-----------------------+--------------------------+----------------------------+-------------------------------------+----------------------------+------------------------------------+--------------------------+------------------------+\n",
      "|         120|2020-01-01 00:00:00|       green|   692.4300000000001|                 5.25|                    7.0|        21.970000000000002|                       12.24|                    8.399999999999999|           752.7899999999997|                                 5.5|        1.1935483870967742|       4.636562499999999|\n",
      "|          82|2020-02-01 00:00:00|       green|  182594.36999999933|              8411.75|                 7522.0|        11186.169999999995|          1384.4300000000007|                    4754.099999999961|           216460.6200000223|                              651.75|        1.4300339071465833|       2.417771898151039|\n",
      "|          61|2020-02-01 00:00:00|       green|   69339.43000000014|               5996.0|                  893.0|        1025.1799999999998|           741.7500000000005|                    999.9000000000265|           79369.60999999967|                              120.75|        1.2360128617363344|       3.522798644450718|\n",
      "|          49|2020-01-01 00:00:00|       green|   58169.51999999992|               3496.5|                 1246.0|         2424.090000000002|           554.3200000000003|                    995.3999999999404|           67685.68000000155|                              557.75|        1.1845878136200716|      3.5272473669228623|\n",
      "|         229|2020-01-01 00:00:00|       green|             2178.53|                137.5|                    8.5|                       0.0|                       88.48|                   20.100000000000026|                     2433.11|                                 0.0|                       1.0|       7.693529411764706|\n",
      "|         154|2020-02-01 00:00:00|       green|  414.29999999999995|                 28.0|                    2.0|                       0.0|                        2.29|                   3.5999999999999996|          450.19000000000005|                                 0.0|                       1.0|       7.059230769230769|\n",
      "|          14|2020-01-01 00:00:00|       green|   44186.50999999987|               2549.0|                  345.5|         257.0000000000001|          1285.8899999999965|                    412.2000000000099|           49090.69999999996|                               74.25|        1.0737704918032787|       6.876796973518285|\n",
      "|          32|2020-01-01 00:00:00|       green|   16687.05999999999|              1131.75|                  113.5|         74.99999999999999|                      917.17|                     177.300000000001|          19107.629999999954|                                 5.5|        1.3095238095238095|        6.41725038402458|\n",
      "|         128|2020-01-01 00:00:00|       green|             3261.33|                158.0|                   35.5|         82.25000000000001|          104.04000000000002|                    34.50000000000003|          3714.0200000000023|                                27.5|        1.0169491525423728|      7.0232800000000015|\n",
      "|          47|2020-02-01 00:00:00|       green|             13825.3|              1181.25|                  122.5|                     66.66|           458.9700000000002|                   174.59999999999906|          15851.980000000018|                                11.0|        1.1617021276595745|       4.698445512820511|\n",
      "|         222|2020-02-01 00:00:00|       green|  19378.070000000007|               1724.5|                   94.5|                     10.83|           514.8300000000003|                   176.09999999999906|           21898.82999999999|                                 0.0|        1.1714285714285715|       7.231880597014925|\n",
      "|           3|2020-02-01 00:00:00|       green|             9758.05|                853.0|                   45.5|                      1.68|           429.6700000000002|                   105.59999999999971|          11204.300000000001|                                 0.0|        1.4647887323943662|      6.0781401617250665|\n",
      "|         216|2020-02-01 00:00:00|       green|  19758.420000000006|               1245.0|                  110.0|        102.96000000000001|           424.2500000000001|                   195.29999999999887|           21843.37999999996|                                 5.5|        1.1793893129770991|       6.703884785819795|\n",
      "|          31|2020-02-01 00:00:00|       green|             1657.56|                 82.0|                   25.0|        107.83000000000001|                       53.52|                    22.50000000000001|          1975.9099999999994|                               30.25|        1.0178571428571428|       5.226790123456789|\n",
      "|         237|2020-02-01 00:00:00|       green|  2662.5299999999997|               184.25|                    4.0|                       0.0|                      103.52|                   20.700000000000006|                      2975.0|                                 0.0|                       1.0|       9.698840579710149|\n",
      "|         155|2020-01-01 00:00:00|       green|   25022.44000000009|              1798.25|                  212.0|                      9.01|           429.1100000000003|                   255.00000000000395|          27730.510000000017|                                2.75|        1.2418300653594772|       5.510752475247519|\n",
      "|          28|2020-02-01 00:00:00|       green|  12194.370000000003|                851.0|                   97.0|        109.13000000000001|           293.7600000000001|                   134.69999999999942|          13687.410000000022|                                 5.5|                      1.25|       5.831763485477177|\n",
      "|          63|2020-01-01 00:00:00|       green|  13895.150000000018|                820.5|                  105.0|                      3.56|          420.74000000000024|                   135.29999999999941|                    15380.25|                                 0.0|        1.0892857142857142|       6.209071146245065|\n",
      "|         244|2020-02-01 00:00:00|       green|  183564.74999999965|              6805.25|                 5067.5|        19970.690000000024|           3487.359999999978|                   3272.9999999996867|          230201.80000001268|                              9198.5|        1.3289116963594112|       4.280981274756944|\n",
      "|         184|2020-02-01 00:00:00|       green|              481.62|                30.75|                    2.5|                       3.0|                       56.59|                                  3.6|                      578.06|                                 0.0|                      1.75|       9.593999999999998|\n",
      "+------------+-------------------+------------+--------------------+---------------------+-----------------------+--------------------------+----------------------------+-------------------------------------+----------------------------+------------------------------------+--------------------------+------------------------+\n",
      "only showing top 20 rows\n",
      "\n"
     ]
    }
   ],
   "source": [
    "df_result.show()"
   ]
  },
  {
   "cell_type": "code",
   "execution_count": 19,
   "id": "f67eeb92",
   "metadata": {},
   "outputs": [],
   "source": [
    "df_result.coalesce(1).write.parquet('data/report/revenue/', mode='overwrite')"
   ]
  },
  {
   "cell_type": "code",
   "execution_count": null,
   "id": "f56a885d",
   "metadata": {},
   "outputs": [],
   "source": []
  }
 ],
 "metadata": {
  "kernelspec": {
   "display_name": ".venv",
   "language": "python",
   "name": "python3"
  },
  "language_info": {
   "codemirror_mode": {
    "name": "ipython",
    "version": 3
   },
   "file_extension": ".py",
   "mimetype": "text/x-python",
   "name": "python",
   "nbconvert_exporter": "python",
   "pygments_lexer": "ipython3",
   "version": "3.11.8"
  }
 },
 "nbformat": 4,
 "nbformat_minor": 5
}
